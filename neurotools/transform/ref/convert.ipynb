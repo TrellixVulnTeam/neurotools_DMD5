{
 "cells": [
  {
   "cell_type": "code",
   "execution_count": 40,
   "metadata": {
    "collapsed": true
   },
   "outputs": [],
   "source": [
    "import nibabel as nib\n",
    "import numpy as np\n",
    "from sympy im"
   ]
  },
  {
   "cell_type": "code",
   "execution_count": 249,
   "metadata": {
    "collapsed": true
   },
   "outputs": [],
   "source": [
    "from mpl_toolkits import mplot3d\n",
    "import matplotlib.pyplot as plt"
   ]
  },
  {
   "cell_type": "code",
   "execution_count": 265,
   "metadata": {
    "collapsed": true
   },
   "outputs": [],
   "source": [
    "class Tri():\n",
    "    \n",
    "    def __init__(self, coords):\n",
    "        \n",
    "        self.min_coords = coords.min(axis=0)\n",
    "        self.max_coords = coords.max(axis=0)\n",
    "        \n",
    "    def intersect(self, other):\n",
    "        \n",
    "        if other.min_coords[0] > self.min_coords[0] and other.max_coords[0] < self.max_coords[0]:\n",
    "            if other.min_coords[1] > self.min_coords[1] and other.max_coords[1] < self.max_coords[1]:\n",
    "                if other.min_coords[2] > self.min_coords[2] and other.max_coords[2] < self.max_coords[2]:\n",
    "                    return True\n",
    "        return False"
   ]
  },
  {
   "cell_type": "code",
   "execution_count": 266,
   "metadata": {},
   "outputs": [
    {
     "name": "stdout",
     "output_type": "stream",
     "text": [
      "219405\n",
      "219406\n",
      "219407\n",
      "219408\n"
     ]
    }
   ],
   "source": [
    "compare = Tri(new_coords[new_tris[0]])\n",
    "\n",
    "for i in range(len(cur_tris)):\n",
    "    \n",
    "    t = Tri(cur_coords[cur_tris[i]])\n",
    "    if compare.intersect(t):\n",
    "        print(i)\n",
    "    "
   ]
  },
  {
   "cell_type": "code",
   "execution_count": 331,
   "metadata": {},
   "outputs": [
    {
     "data": {
      "image/png": "[encoded data removed]",
      "text/plain": [
       "<Figure size 432x288 with 1 Axes>"
      ]
     },
     "metadata": {},
     "output_type": "display_data"
    }
   ],
   "source": [
    "ax = plt.axes(projection='3d')\n",
    "xdata, ydata, zdata = new_coords[new_tris[0]].T\n",
    "ax.scatter3D(xdata, ydata, zdata, c='Red')\n",
    "\n",
    "xdata, ydata, zdata = cur_coords[cur_tris[1112]].T\n",
    "ax.scatter3D(xdata, ydata, zdata, c='Black')\n",
    "\n",
    "plt.show()"
   ]
  },
  {
   "cell_type": "code",
   "execution_count": 330,
   "metadata": {},
   "outputs": [
    {
     "data": {
      "text/plain": [
       "3.9782939851416472"
      ]
     },
     "execution_count": 330,
     "metadata": {},
     "output_type": "execute_result"
    }
   ],
   "source": [
    "a = new_coords[new_tris[0]]\n",
    "b = cur_coords[cur_tris[1112]]\n",
    "\n",
    "a_p = Plane(Point3D(a[0]), Point3D(a[1]), Point3D(a[2]))\n",
    "\n",
    "np.mean([float(a_p.distance(Point3D(b[0]))),\n",
    "         float(a_p.distance(Point3D(b[1]))),\n",
    "         float(a_p.distance(Point3D(b[2])))])"
   ]
  },
  {
   "cell_type": "code",
   "execution_count": null,
   "metadata": {
    "collapsed": true
   },
   "outputs": [],
   "source": [
    "def resample(metricIn, curSphere='fsaverage_std_sphere.L.164k_fsavg_L.surf.gii',\n",
    "             newSphere='fs_LR-deformed_to-fsaverage.L.sphere.32k_fs_LR.surf.gii',\n",
    "             curAreaSurf='fsaverage.L.midthickness_va_avg.164k_fsavg_L.shape.gii',\n",
    "             newAreaSurf='fs_LR.L.midthickness_va_avg.32k_fs_LR.shape.gii'):\n",
    "    \n",
    "    # Load geo\n",
    "    curSphere = nib.load(curSphere)\n",
    "    newSphere = nib.load(newSphere)\n",
    "    \n",
    "    # Load area metrics\n",
    "    curAreaSurf = nib.load(curAreaSurf)\n",
    "    newAreaSurf = nib.load(newAreaSurf)\n",
    "    \n",
    "    # Un-pack and get areas for current\n",
    "    cur_coords = curSphere.agg_data('NIFTI_INTENT_POINTSET')\n",
    "    cur_tris = curSphere.agg_data('NIFTI_INTENT_TRIANGLE')\n",
    "    cur_areas = compute_areas(cur_tris, cur_coords)\n",
    "   \n",
    "    # Un-pack and get areas for new\n",
    "    new_coords = newSphere.agg_data('NIFTI_INTENT_POINTSET')\n",
    "    new_tris = newSphere.agg_data('NIFTI_INTENT_TRIANGLE')\n",
    "    new_areas = compute_areas(new_tris, new_coords)\n",
    "    \n",
    "    # Do input checks\n",
    "    \n",
    "    # Init metric_out empty array\n",
    "    \n",
    "    # Init surface sampler helper"
   ]
  },
  {
   "cell_type": "code",
   "execution_count": null,
   "metadata": {
    "collapsed": true
   },
   "outputs": [],
   "source": [
    "def resample_surface(cur_coords, new_coords, cur_areas, new_areas):\n",
    "    \n",
    "    # Gen changed radius coords\n",
    "    cur_coords_mod = change_radius(cur_coords, 100)\n",
    "    new_coords_mod = change_radius(new_coords, 100)\n",
    "    \n",
    "    # Compute weights adap bary area\n",
    "    computeWeightsAdapBaryArea(&currentSphereMod, &newSphereMod, currentAreas, newAreas, currentRoi);\n",
    "\n",
    "       \n"
   ]
  },
  {
   "cell_type": "code",
   "execution_count": null,
   "metadata": {
    "collapsed": true
   },
   "outputs": [],
   "source": [
    "# Returns forward mapping, want to gen forward and backwards mapping\n",
    "forward = make_mapping(currentSphereMod, newSphereMod)\n",
    "backward = make_mapping(newSphereMod, currentSphereMod) \n",
    "\n"
   ]
  },
  {
   "cell_type": "code",
   "execution_count": 159,
   "metadata": {
    "collapsed": true
   },
   "outputs": [],
   "source": [
    "from scipy.interpolate import barycentric_interpolate"
   ]
  },
  {
   "cell_type": "code",
   "execution_count": null,
   "metadata": {
    "collapsed": true
   },
   "outputs": [],
   "source": [
    "barycentric_interpolate(cur_coords[0], )"
   ]
  },
  {
   "cell_type": "code",
   "execution_count": 168,
   "metadata": {},
   "outputs": [
    {
     "data": {
      "text/plain": [
       "(array([    12,     13, 288314, 292687, 307997]), array([0, 0, 2, 1, 2]))"
      ]
     },
     "execution_count": 168,
     "metadata": {},
     "output_type": "execute_result"
    }
   ],
   "source": [
    "np.where(cur_tris == 1)\n"
   ]
  },
  {
   "cell_type": "code",
   "execution_count": null,
   "metadata": {
    "collapsed": true
   },
   "outputs": [],
   "source": [
    "# Passed single coord\n",
    "# From is first generated from currentSphereMod\n",
    "# which inits the signed distance helper\n",
    "# then one by one, processes coords from "
   ]
  },
  {
   "cell_type": "code",
   "execution_count": 149,
   "metadata": {
    "collapsed": true
   },
   "outputs": [],
   "source": [
    "class Oct():\n",
    "    \n",
    "    def __init__(self, minCoord, maxCoord):\n",
    "        \n",
    "        self.minCoord = minCoord\n",
    "        self.maxCoord = maxCoord\n",
    "\n",
    "class SignedDistanceHelperBase():\n",
    "    \n",
    "    def __init__(self, coords, tris):\n",
    "        \n",
    "        self.min_coord = coords.min(axis=0)\n",
    "        self.max_coord = coords.max(axis=0)\n",
    "        \n",
    "        self.m_indexRoot = Oct(minCoord, maxCoord)\n",
    "        \n",
    "        self.myCoordData = coords\n",
    "        self.m_coordList = coords\n",
    "\n",
    "\n",
    "        \n",
    "        "
   ]
  },
  {
   "cell_type": "code",
   "execution_count": 148,
   "metadata": {
    "collapsed": true
   },
   "outputs": [],
   "source": []
  },
  {
   "cell_type": "code",
   "execution_count": null,
   "metadata": {
    "collapsed": true
   },
   "outputs": [],
   "source": [
    "SignedDistanceHelperBase::SignedDistanceHelperBase(const SurfaceFile* mySurf)\n",
    "{\n",
    "\n",
    "    m_topoHelp = mySurf->getTopologyHelper();\n",
    "    \n",
    "    \n",
    "    const float* myBB = mySurf->getBoundingBox()->getBounds();\n",
    "    \n",
    "    Vector3D minCoord, maxCoord;\n",
    "    minCoord[0] = myBB[0]; maxCoord[0] = myBB[1];\n",
    "    minCoord[1] = myBB[2]; maxCoord[1] = myBB[3];\n",
    "    minCoord[2] = myBB[4]; maxCoord[2] = myBB[5];\n",
    "    \n",
    "    \n",
    "    m_indexRoot.grabNew(new Oct<TriVector>(minCoord, maxCoord));\n",
    "    \n",
    "    const float* myCoordData = mySurf->getCoordinateData();\n",
    "    \n",
    "    \n",
    "    m_numNodes = mySurf->getNumberOfNodes();\n",
    "    int32_t numNodes3 = m_numNodes * 3;\n",
    "    m_coordList.resize(numNodes3);\n",
    "    \n",
    "    for (int32_t i = 0; i < numNodes3; ++i)\n",
    "    {\n",
    "        m_coordList[i] = myCoordData[i];\n",
    "    }\n",
    "    \n",
    "    \n",
    "    m_numTris = mySurf->getNumberOfTriangles();\n",
    "    m_triangleList.resize(m_numTris * 3);\n",
    "    \n",
    "    for (int32_t i = 0; i < m_numTris; ++i)\n",
    "    {\n",
    "        int32_t i3 = i * 3;\n",
    "        const int32_t* thisTri = mySurf->getTriangle(i);\n",
    "        \n",
    "        m_triangleList[i3] = thisTri[0];\n",
    "        m_triangleList[i3 + 1] = thisTri[1];\n",
    "        m_triangleList[i3 + 2] = thisTri[2];\n",
    "        \n",
    "        maxCoord = minCoord = myCoordData + thisTri[0] * 3;//set both to the coordinates of the first node in the triangle\n",
    "        for (int j = 1; j < 3; ++j)\n",
    "        {\n",
    "            int32_t thisNode3 = thisTri[j] * 3;\n",
    "            if (myCoordData[thisNode3] < minCoord[0]) minCoord[0] = myCoordData[thisNode3];\n",
    "            if (myCoordData[thisNode3 + 1] < minCoord[1]) minCoord[1] = myCoordData[thisNode3 + 1];\n",
    "            if (myCoordData[thisNode3 + 2] < minCoord[2]) minCoord[2] = myCoordData[thisNode3 + 2];\n",
    "            if (myCoordData[thisNode3] > maxCoord[0]) maxCoord[0] = myCoordData[thisNode3];\n",
    "            if (myCoordData[thisNode3 + 1] > maxCoord[1]) maxCoord[1] = myCoordData[thisNode3 + 1];\n",
    "            if (myCoordData[thisNode3 + 2] > maxCoord[2]) maxCoord[2] = myCoordData[thisNode3 + 2];\n",
    "        }\n",
    "        addTriangle(m_indexRoot, i, minCoord, maxCoord);//use bounding box for now as an easy test to capture any chance of the triangle intersecting the Oct\n",
    "    }\n",
    "}"
   ]
  },
  {
   "cell_type": "code",
   "execution_count": null,
   "metadata": {
    "collapsed": true
   },
   "outputs": [],
   "source": [
    "    float Oct<T>::distToPoint(const float point[3])\n",
    "    {\n",
    "        float temp[3];\n",
    "        for (int i = 0; i < 3; ++i)\n",
    "        {\n",
    "            if (point[i] < m_bounds[i][0])\n",
    "            {\n",
    "                temp[i] = m_bounds[i][0] - point[i];\n",
    "            } else {\n",
    "                if (point[i] > m_bounds[i][2])\n",
    "                {\n",
    "                    temp[i] = m_bounds[i][2] - point[i];\n",
    "                } else {\n",
    "                    temp[i] = 0.0f;\n",
    "                }\n",
    "            }\n",
    "        }\n",
    "        return MathFunctions::vectorLength(temp);\n",
    "    }\n",
    "\n",
    "if point is less than min, take min - point\n",
    "\n",
    "if point is greater than max, take max - point "
   ]
  },
  {
   "cell_type": "code",
   "execution_count": null,
   "metadata": {
    "collapsed": true
   },
   "outputs": [],
   "source": [
    "tempf = -1\n",
    "bestTriDist = -1\n",
    "first = True\n",
    "numChanged = 0\n",
    "\n",
    "curOct = \n",
    "\n"
   ]
  },
  {
   "cell_type": "code",
   "execution_count": null,
   "metadata": {
    "collapsed": true
   },
   "outputs": [],
   "source": [
    "void SignedDistanceHelper::barycentricWeights(const float coord[3], BarycentricInfo& baryInfoOut)\n",
    "{\n",
    "    CaretMutexLocker locked(&m_mutex);\n",
    "    CaretSimpleMinHeap<Oct<SignedDistanceHelperBase::TriVector>*, float> myHeap;\n",
    "    myHeap.push(m_base->m_indexRoot, m_base->m_indexRoot->distToPoint(coord));\n",
    "    \n",
    "    ClosestPointInfo tempInfo, bestInfo;\n",
    "    \n",
    "    float tempf = -1.0f, bestTriDist = -1.0f;\n",
    "    bool first = true;\n",
    "    int numChanged = 0;\n",
    "    while (!myHeap.isEmpty())\n",
    "    {\n",
    "        Oct<SignedDistanceHelperBase::TriVector>* curOct = myHeap.pop(&tempf);\n",
    "        \n",
    "        \n",
    "        if (first || tempf < bestTriDist)\n",
    "        {\n",
    "            if (curOct->m_leaf)\n",
    "            {\n",
    "                vector<int32_t>& myVecRef = *(curOct->m_data.m_triList);\n",
    "                int numTris = (int)myVecRef.size();\n",
    "                for (int i = 0; i < numTris; ++i)\n",
    "                {\n",
    "                    if (m_triMarked[myVecRef[i]] != 1)\n",
    "                    {\n",
    "                        m_triMarked[myVecRef[i]] = 1;\n",
    "                        m_triMarkChanged[numChanged++] = myVecRef[i];\n",
    "                        tempf = unsignedDistToTri(coord, myVecRef[i], tempInfo);\n",
    "                        if (first || tempf < bestTriDist)\n",
    "                        {\n",
    "                            bestInfo = tempInfo;\n",
    "                            bestTriDist = tempf;\n",
    "                            first = false;\n",
    "                        }\n",
    "                    }\n",
    "                }\n",
    "            } else {\n",
    "                for (int ci = 0; ci < 2; ++ci)\n",
    "                {\n",
    "                    for (int cj = 0; cj < 2; ++cj)\n",
    "                    {\n",
    "                        for (int ck = 0; ck < 2; ++ck)\n",
    "                        {\n",
    "                            tempf = curOct->m_children[ci][cj][ck]->distToPoint(coord);\n",
    "                            if (first || tempf < bestTriDist)\n",
    "                            {\n",
    "                                myHeap.push(curOct->m_children[ci][cj][ck], tempf);\n",
    "                            }\n",
    "                        }\n",
    "                    }\n",
    "                }\n",
    "            }\n",
    "        }\n",
    "    }\n",
    "    while (numChanged)\n",
    "    {\n",
    "        m_triMarked[m_triMarkChanged[--numChanged]] = 0;//clean up\n",
    "    }\n",
    "    baryInfoOut.triangle = bestInfo.triangle;\n",
    "    baryInfoOut.point = bestInfo.tempPoint;\n",
    "    baryInfoOut.absDistance = bestTriDist;\n",
    "    const int32_t* triNodes = m_base->getTriangle(bestInfo.triangle);\n",
    "    baryInfoOut.nodes[0] = triNodes[0];\n",
    "    baryInfoOut.nodes[1] = triNodes[1];\n",
    "    baryInfoOut.nodes[2] = triNodes[2];\n",
    "    switch (bestInfo.type)\n",
    "    {\n",
    "        case 2:\n",
    "            {\n",
    "                baryInfoOut.type = BarycentricInfo::TRIANGLE;\n",
    "                Vector3D vert1 = m_base->getCoordinate(triNodes[0]);\n",
    "                Vector3D vert2 = m_base->getCoordinate(triNodes[1]);\n",
    "                Vector3D vert3 = m_base->getCoordinate(triNodes[2]);\n",
    "                Vector3D vp1 = vert1 - bestInfo.tempPoint;\n",
    "                Vector3D vp2 = vert2 - bestInfo.tempPoint;\n",
    "                Vector3D vp3 = vert3 - bestInfo.tempPoint;\n",
    "                float weight1 = vp2.cross(vp3).length();\n",
    "                float weight2 = vp1.cross(vp3).length();\n",
    "                float weight3 = vp1.cross(vp2).length();\n",
    "                float weightsum = weight1 + weight2 + weight3;\n",
    "                baryInfoOut.baryWeights[0] = weight1 / weightsum;\n",
    "                baryInfoOut.baryWeights[1] = weight2 / weightsum;\n",
    "                baryInfoOut.baryWeights[2] = weight3 / weightsum;\n",
    "            }\n",
    "            break;\n",
    "        case 1:\n",
    "            {\n",
    "                baryInfoOut.type = BarycentricInfo::EDGE;\n",
    "                Vector3D vert1 = m_base->getCoordinate(bestInfo.node1);\n",
    "                Vector3D vert2 = m_base->getCoordinate(bestInfo.node2);\n",
    "                Vector3D v21hat = vert2 - vert1;\n",
    "                float origLength;\n",
    "                v21hat = v21hat.normal(&origLength);\n",
    "                float tempf = v21hat.dot(bestInfo.tempPoint - vert1);\n",
    "                float weight2 = tempf / origLength;\n",
    "                float weight1 = 1.0f - weight2;\n",
    "                for (int i = 0; i < 3; ++i)\n",
    "                {\n",
    "                    if (triNodes[i] == bestInfo.node1)\n",
    "                    {\n",
    "                        baryInfoOut.baryWeights[i] = weight1;\n",
    "                    } else if (triNodes[i] == bestInfo.node2) {\n",
    "                        baryInfoOut.baryWeights[i] = weight2;\n",
    "                    } else {\n",
    "                        baryInfoOut.baryWeights[i] = 0.0f;\n",
    "                    }\n",
    "                }\n",
    "            }\n",
    "            break;\n",
    "        case 0:\n",
    "            baryInfoOut.type = BarycentricInfo::NODE;\n",
    "                for (int i = 0; i < 3; ++i)\n",
    "                {\n",
    "                    if (triNodes[i] == bestInfo.node1)\n",
    "                    {\n",
    "                        baryInfoOut.baryWeights[i] = 1.0f;\n",
    "                    } else {\n",
    "                        baryInfoOut.baryWeights[i] = 0.0f;\n",
    "                    }\n",
    "                }\n",
    "            break;\n",
    "    };\n",
    "    for (int i = 0; i < 3; ++i)\n",
    "    {\n",
    "        if (baryInfoOut.baryWeights[i] < 0.0f)\n",
    "        {\n",
    "            baryInfoOut.baryWeights[i] = 0.0f;\n",
    "        }\n",
    "    }\n",
    "}"
   ]
  },
  {
   "cell_type": "code",
   "execution_count": null,
   "metadata": {
    "collapsed": true
   },
   "outputs": [],
   "source": [
    "    int numToNodes = to->getNumberOfNodes();\n",
    "    weights.resize(numToNodes);\n",
    "    const float* toCoordData = to->getCoordinateData();\n",
    "    \n",
    "        CaretPointer<SignedDistanceHelper> mySignedHelp = from->getSignedDistanceHelper();\n",
    "        for (int i = 0; i < numToNodes; ++i)\n",
    "        {\n",
    "            BarycentricInfo myInfo;\n",
    "            mySignedHelp->barycentricWeights(toCoordData + i * 3, myInfo);\n",
    "            if (myInfo.baryWeights[0] != 0.0f) weights[i][myInfo.nodes[0]] = myInfo.baryWeights[0];\n",
    "            if (myInfo.baryWeights[1] != 0.0f) weights[i][myInfo.nodes[1]] = myInfo.baryWeights[1];\n",
    "            if (myInfo.baryWeights[2] != 0.0f) weights[i][myInfo.nodes[2]] = myInfo.baryWeights[2];\n",
    "        }"
   ]
  },
  {
   "cell_type": "code",
   "execution_count": 139,
   "metadata": {},
   "outputs": [
    {
     "data": {
      "text/plain": [
       "array([[  0.       ,   0.       , 100.       ],\n",
       "       [ 27.63896  , -85.0668   ,  44.71832  ],\n",
       "       [ 89.44272  ,   0.       ,  44.72136  ],\n",
       "       ...,\n",
       "       [  2.7998765,   1.0199549, -99.95559  ],\n",
       "       [  2.0999293,   0.5099829, -99.97665  ],\n",
       "       [  1.4000027,   0.       , -99.9902   ]], dtype=float32)"
      ]
     },
     "execution_count": 139,
     "metadata": {},
     "output_type": "execute_result"
    }
   ],
   "source": [
    "{\n",
    "    vector<map<int, float> > forward, reverse, reverse_gather;\n",
    "    makeBarycentricWeights(currentSphere, newSphere, forward, NULL);//don't use an roi until after we have done area correction, because area correction MUST ignore ROI\n",
    "    makeBarycentricWeights(newSphere, currentSphere, reverse, NULL);\n",
    "    int numNewNodes = (int)forward.size(), numOldNodes = currentSphere->getNumberOfNodes();\n",
    "    reverse_gather.resize(numNewNodes);\n",
    "    for (int oldNode = 0; oldNode < numOldNodes; ++oldNode)//this loop can't be parallelized\n",
    "    {\n",
    "        for (map<int, float>::iterator iter = reverse[oldNode].begin(); iter != reverse[oldNode].end(); ++iter)//convert scattering weights to gathering weights\n",
    "        {\n",
    "            reverse_gather[iter->first][oldNode] = iter->second;\n",
    "        }\n",
    "    }\n",
    "    vector<map<int, float> > adap_gather(numNewNodes);\n",
    "#pragma omp CARET_PARFOR schedule(dynamic)\n",
    "    for (int newNode = 0; newNode < numNewNodes; ++newNode)\n",
    "    {\n",
    "        set<int> forwardused;//build set of all nodes used by forward weights (really only 3, but this is a bit cleaner and more generic)\n",
    "        for (map<int, float>::iterator iter = forward[newNode].begin(); iter != forward[newNode].end(); ++iter)\n",
    "        {\n",
    "            forwardused.insert(iter->first);\n",
    "        }\n",
    "        bool useforward = true;\n",
    "        for (map<int, float>::iterator iter = reverse_gather[newNode].begin(); iter != reverse_gather[newNode].end(); ++iter)\n",
    "        {\n",
    "            if (forwardused.find(iter->first) == forwardused.end())\n",
    "            {\n",
    "                useforward = false;//if the reverse scatter weights include something the forward gather weights don't, use reverse scatter\n",
    "                break;\n",
    "            }\n",
    "        }\n",
    "        if (useforward)\n",
    "        {\n",
    "            adap_gather[newNode] = forward[newNode];\n",
    "        } else {\n",
    "            adap_gather[newNode] = reverse_gather[newNode];\n",
    "        }\n",
    "        for (map<int, float>::iterator iter = adap_gather[newNode].begin(); iter != adap_gather[newNode].end(); ++iter)//begin area correction by multiplying by target node area\n",
    "        {\n",
    "            iter->second *= newAreas[newNode];//begin the process of area correction by multiplying by gathering node areas\n",
    "        }\n",
    "    }\n",
    "    vector<float> correctionSum(numOldNodes, 0.0f);\n",
    "    for (int newNode = 0; newNode < numNewNodes; ++newNode)//this loop is separate because it can't be parallelized\n",
    "    {\n",
    "        for (map<int, float>::iterator iter = adap_gather[newNode].begin(); iter != adap_gather[newNode].end(); ++iter)\n",
    "        {\n",
    "            correctionSum[iter->first] += iter->second;//now, sum the scattering weights to prepare for first normalization\n",
    "        }\n",
    "    }\n",
    "#pragma omp CARET_PARFOR schedule(dynamic)\n",
    "    for (int newNode = 0; newNode < numNewNodes; ++newNode)\n",
    "    {\n",
    "        double weightsum = 0.0f;\n",
    "        vector<map<int, float>::iterator> toRemove;\n",
    "        for (map<int, float>::iterator iter = adap_gather[newNode].begin(); iter != adap_gather[newNode].end(); ++iter)\n",
    "        {\n",
    "            if (currentRoi == NULL || currentRoi[iter->first] > 0.0f)\n",
    "            {\n",
    "                iter->second *= currentAreas[iter->first] / correctionSum[iter->first];//divide the weights by their scatter sum, then multiply by current areas\n",
    "                weightsum += iter->second;//and compute the sum\n",
    "            } else {\n",
    "                toRemove.push_back(iter);\n",
    "            }\n",
    "        }\n",
    "        int numToRemove = (int)toRemove.size();\n",
    "        for (int i = 0; i < numToRemove; ++i)\n",
    "        {\n",
    "            adap_gather[newNode].erase(toRemove[i]);\n",
    "        }\n",
    "        if (weightsum != 0.0f)//this shouldn't happen unless no nodes remain due to roi, or node areas can be zero\n",
    "        {\n",
    "            for (map<int, float>::iterator iter = adap_gather[newNode].begin(); iter != adap_gather[newNode].end(); ++iter)\n",
    "            {\n",
    "                iter->second /= weightsum;//and normalize to a sum of 1\n",
    "            }\n",
    "        }\n",
    "    }\n",
    "    compactWeights(adap_gather);//and compact them into the internal weight storage\n",
    "}"
   ]
  },
  {
   "cell_type": "code",
   "execution_count": 136,
   "metadata": {
    "collapsed": true
   },
   "outputs": [],
   "source": [
    "def get_coord_vec_length(coord):\n",
    "    return np.sqrt(coord[0] * coord[0] + coord[1] * coord[1] + coord[2] * coord[2])\n",
    "\n",
    "def change_radius(coords, radius=100):\n",
    "    \n",
    "    new_coords = np.zeros((coords.shape))\n",
    "    for i, coord in enumerate(cur_coords):\n",
    "        new_coords[i] = coord * (radius / get_coord_vec_length(coord))\n",
    "        \n",
    "    return new_coords"
   ]
  },
  {
   "cell_type": "code",
   "execution_count": 127,
   "metadata": {},
   "outputs": [
    {
     "ename": "NameError",
     "evalue": "name 'coord' is not defined",
     "output_type": "error",
     "traceback": [
      "\u001b[0;31m---------------------------------------------------------------------------\u001b[0m",
      "\u001b[0;31mNameError\u001b[0m                                 Traceback (most recent call last)",
      "\u001b[0;32m<ipython-input-127-29be72684f47>\u001b[0m in \u001b[0;36m<module>\u001b[0;34m\u001b[0m\n\u001b[0;32m----> 1\u001b[0;31m \u001b[0mcoord\u001b[0m\u001b[0;34m\u001b[0m\u001b[0;34m\u001b[0m\u001b[0m\n\u001b[0m",
      "\u001b[0;31mNameError\u001b[0m: name 'coord' is not defined"
     ]
    }
   ],
   "source": [
    "coord"
   ]
  },
  {
   "cell_type": "code",
   "execution_count": null,
   "metadata": {
    "collapsed": true
   },
   "outputs": [],
   "source": [
    "np.sqrt()"
   ]
  },
  {
   "cell_type": "code",
   "execution_count": null,
   "metadata": {
    "collapsed": true
   },
   "outputs": [],
   "source": [
    "MathFunctions::vectorLength(const float vector[3])\n",
    "{\n",
    "    float len =\n",
    "    (float)std::sqrt(vector[0]*vector[0] +\n",
    "                     vector[1]*vector[1] +\n",
    "                     vector[2]*vector[2]);\n",
    "    return len;\n",
    "}\n"
   ]
  },
  {
   "cell_type": "code",
   "execution_count": 36,
   "metadata": {
    "collapsed": true
   },
   "outputs": [],
   "source": [
    "curSphere = nib.load('fsaverage_std_sphere.L.164k_fsavg_L.surf.gii')\n",
    "newSphere = nib.load('fs_LR-deformed_to-fsaverage.L.sphere.32k_fs_LR.surf.gii')\n",
    "\n",
    "myMethod = 'ADAP_BARY_AREA'\n",
    "\n",
    "curAreaSurf = nib.load('fsaverage.L.midthickness_va_avg.164k_fsavg_L.shape.gii').agg_data()\n",
    "newAreaSurf = nib.load('fs_LR.L.midthickness_va_avg.32k_fs_LR.shape.gii').agg_data()"
   ]
  },
  {
   "cell_type": "code",
   "execution_count": 73,
   "metadata": {
    "collapsed": true
   },
   "outputs": [],
   "source": []
  },
  {
   "cell_type": "code",
   "execution_count": 75,
   "metadata": {},
   "outputs": [
    {
     "data": {
      "text/plain": [
       "array([0.59126431, 0.59433414, 0.59284162, ..., 0.71197376, 0.71413978,\n",
       "       0.71402531])"
      ]
     },
     "execution_count": 75,
     "metadata": {},
     "output_type": "execute_result"
    }
   ],
   "source": [
    "cur_areas"
   ]
  },
  {
   "cell_type": "code",
   "execution_count": 68,
   "metadata": {
    "collapsed": true
   },
   "outputs": [],
   "source": [
    "def compute_areas(tris, coords):\n",
    "    \n",
    "    nodes = np.unique(tris)\n",
    "    \n",
    "    # Init areas out\n",
    "    areas_out = np.zeros(np.unique(tris).shape)\n",
    "\n",
    "    for tri in tris:\n",
    "        \n",
    "        # Unpack\n",
    "        n1, n2, n3 = tri\n",
    "        \n",
    "        # Compute area / 3\n",
    "        area3 = triangle_area(coords[n1], coords[n2], coords[n3]) / 3\n",
    "        \n",
    "        # Add to areas out\n",
    "        areas_out[n1] += area3\n",
    "        areas_out[n2] += area3\n",
    "        areas_out[n3] += area3\n",
    "\n",
    "    return areas_out\n",
    "\n",
    "def triangle_area(v1, v2, v3):\n",
    "    \n",
    "    a = distance_squared_3D(v1, v2)\n",
    "    b = distance_squared_3D(v2, v3)\n",
    "    c = distance_squared_3D(v3, v1)\n",
    "    \n",
    "    area = .25 * np.sqrt(np.abs(4.0 * a * c - (a-b+c) * (a-b+c)))\n",
    "    return area\n",
    "\n",
    "\n",
    "def distance_squared_3D(p1, p2):\n",
    "    \n",
    "    dx = p1[0] - p2[0]\n",
    "    dy = p1[1] - p2[1]\n",
    "    dz = p1[2] - p2[2]\n",
    "    \n",
    "    distSQ = (dx*dx) + (dy*dy) + (dz*dz)\n",
    "    \n",
    "    return np.float128(distSQ)"
   ]
  },
  {
   "cell_type": "code",
   "execution_count": null,
   "metadata": {
    "collapsed": true
   },
   "outputs": [],
   "source": []
  }
 ],
 "metadata": {
  "kernelspec": {
   "display_name": "Python 3",
   "language": "python",
   "name": "python3"
  },
  "language_info": {
   "codemirror_mode": {
    "name": "ipython",
    "version": 3
   },
   "file_extension": ".py",
   "mimetype": "text/x-python",
   "name": "python",
   "nbconvert_exporter": "python",
   "pygments_lexer": "ipython3",
   "version": "3.6.8"
  },
  "toc": {
   "base_numbering": 1,
   "nav_menu": {},
   "number_sections": true,
   "sideBar": true,
   "skip_h1_title": false,
   "title_cell": "Table of Contents",
   "title_sidebar": "Contents",
   "toc_cell": false,
   "toc_position": {},
   "toc_section_display": true,
   "toc_window_display": false
  }
 },
 "nbformat": 4,
 "nbformat_minor": 2
}
