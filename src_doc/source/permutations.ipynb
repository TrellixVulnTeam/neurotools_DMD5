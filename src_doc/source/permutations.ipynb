{
 "cells": [
  {
   "cell_type": "markdown",
   "id": "changing-hurricane",
   "metadata": {},
   "source": [
    "# Permuted v-test with nested family\n",
    "\n",
    "For this example problem, we will just use a set of thickness ROI's, just family id as the block structure, and a single confounding variable of sex, and let's say neurocog1 as our target variable. Our dataset we are using is from the ABCD study.\n",
    "\n",
    "### Load the data"
   ]
  },
  {
   "cell_type": "code",
   "execution_count": 1,
   "id": "stylish-plastic",
   "metadata": {},
   "outputs": [],
   "source": [
    "import pandas as pd\n",
    "import numpy as np\n",
    "\n",
    "from neurotools.stats.permutations import permuted_v\n",
    "from neurotools.loading.abcd import load_from_csv"
   ]
  },
  {
   "cell_type": "code",
   "execution_count": 2,
   "id": "naughty-stewart",
   "metadata": {},
   "outputs": [],
   "source": [
    "# Get possible columns\n",
    "csv_loc = '/home/sage/benchmark_methods/data/nda3.0.csv'\n",
    "all_cols = list(pd.read_csv(csv_loc, nrows=0))\n",
    "\n",
    "# Load thickness ROI data - ignore hemi and full mean for plotting\n",
    "thick = [col for col in all_cols if 'smri_thick_cort.destrieux' in col and '_mean' not in col]\n",
    "\n",
    "# Rest of needed columns\n",
    "rest = ['C(sex_at_birth)', 'neurocog_pc1.bl', 'C(rel_family_id)']\n",
    "\n",
    "# Load in all together\n",
    "data = load_from_csv(cols=thick+rest, csv_loc=csv_loc, drop_nan=True)"
   ]
  },
  {
   "cell_type": "markdown",
   "id": "necessary-driver",
   "metadata": {},
   "source": [
    "### Run the permutation test\n",
    "\n",
    "So how should be use the rel_family_id variable with information on the unique family of each subject? One option would be to use the values directly to define groups and the families themselves, where if we set parameter within_grp to True, this would mean that swaps will only be performed within group, so in terms of family, that means the only swaps that would take place are within families, swapping siblings data with each other. What that also means is that we would not be allowing any swaps to take place between say two random subjects with no other family members (this likely is not what we want from a null model).\n",
    "\n",
    "On the other hand, we could use the family information to define block-wise swap. That is to say, so every singleton family is freely swapped with other singleton families, but any family of size 2, can only be swapped with another family of size 2. In this case though, what happens internally further is that the data is split into different variance groups. The set of all single-tons for example all fall under the same unique variance group, then for the set of families of size two, we compute two new variance groups, reflecting the subjects data which are allowed to swap. So for example:\n",
    "\n",
    "- sub1 - family 1\n",
    "- sub2 - family 2 \n",
    "- sub3 - family 2 \n",
    "- sub4 - family 3 \n",
    "- sub5 - family 3 \n",
    "\n",
    "The only possible swap here is subj2 and subj3's values with subj4 and subj5 as a block-level swap. So the different automatically computed variance groups would be:\n",
    "\n",
    "- sub1 - family 1 - vg = 1\n",
    "- sub2 - family 2 - vg = 2\n",
    "- sub3 - family 2 - vg = 3\n",
    "- sub4 - family 3 - vg = 2\n",
    "- sub5 - family 3 - vg = 3\n",
    "\n",
    "Since sub2 and sub4 can swap, and sub3 and sub5 can swap, so they have the same variance group. This is imporant because in calculating the v-score, stats are computed for each variance group seperately, then summed. But are these the swaps and variance groups we want? It seems more desirable actually that we would allow another level of swaps to occur, that is to say, members of the same family should be allowed to swap too, right? Likewise, there is no real reason the first member of family 2 should be in a seperate variance group from the second member of family 2, instead we likely want them all to be in the same variance group. So something like this:\n",
    "\n",
    "- sub1 - family 1 - vg = 1\n",
    "\n",
    "- sub2 - family 2 - vg = 2\n",
    "- sub3 - family 2 - vg = 2\n",
    "\n",
    "- sub4 - family 3 - vg = 2\n",
    "- sub5 - family 3 - vg = 2\n",
    "\n",
    "Where now what we are explicitly concerned with is not the unique family, but the size of the family.\n",
    "\n"
   ]
  },
  {
   "cell_type": "code",
   "execution_count": 3,
   "id": "scheduled-dominican",
   "metadata": {},
   "outputs": [
    {
     "data": {
      "text/plain": [
       "array([1., 2., 3., 5.])"
      ]
     },
     "execution_count": 3,
     "metadata": {},
     "output_type": "execute_result"
    }
   ],
   "source": [
    "unique, cnts = np.unique(data['rel_family_id'], return_counts=True)\n",
    "data['family_size'] = data['rel_family_id'].replace(dict(zip(unique, cnts)))\n",
    "np.unique(data['family_size'])"
   ]
  },
  {
   "cell_type": "code",
   "execution_count": 4,
   "id": "taken-saint",
   "metadata": {},
   "outputs": [],
   "source": [
    "data['neg_rel_family_id'] = -data['rel_family_id']\n",
    "data['ones'] = 1\n",
    "\n",
    "# Explicitly now\n",
    "permutation_structure = data[['family_size', 'neg_rel_family_id', 'ones']]"
   ]
  },
  {
   "cell_type": "markdown",
   "id": "excess-arrow",
   "metadata": {},
   "source": [
    "So with this family size variable, an easy way to set this up is now within_grp=True. Where we allow swaps just within each of the unique groups."
   ]
  },
  {
   "cell_type": "code",
   "execution_count": null,
   "id": "deluxe-bahamas",
   "metadata": {},
   "outputs": [
    {
     "name": "stderr",
     "output_type": "stream",
     "text": [
      "[Parallel(n_jobs=4)]: Using backend LokyBackend with 4 concurrent workers.\n"
     ]
    }
   ],
   "source": [
    "pvals, original_scores, h0_vmax = permuted_v(tested_vars=data['neurocog_pc1.bl'],\n",
    "                                             target_vars=data[thick],\n",
    "                                             confounding_vars=data['sex_at_birth'],\n",
    "                                             permutation_structure=permutation_structure,\n",
    "                                             within_grp=True,\n",
    "                                             n_perm=1,\n",
    "                                             n_jobs=4,\n",
    "                                             verbose=1)"
   ]
  },
  {
   "cell_type": "markdown",
   "id": "clear-azerbaijan",
   "metadata": {},
   "source": [
    "### Make some plots of our results"
   ]
  },
  {
   "cell_type": "code",
   "execution_count": null,
   "id": "whole-leisure",
   "metadata": {},
   "outputs": [],
   "source": [
    "from neurotools.plotting import SurfRef, plot\n",
    "\n",
    "def to_vertex(vals, names, space='fsaverage'):\n",
    "    '''Helper function to convert destr. ROIs to vertex space'''\n",
    "    \n",
    "    plot_df = pd.DataFrame(vals, columns=['vals'])\n",
    "    plot_df['names'] = names\n",
    "\n",
    "    surf_ref = SurfRef(space=space, parc='destr')\n",
    "    plot_data = surf_ref.get_hemis_plot_vals(plot_df, lh_key='.lh', rh_key='.rh')\n",
    "    \n",
    "    return plot_data"
   ]
  },
  {
   "cell_type": "code",
   "execution_count": null,
   "id": "reserved-attack",
   "metadata": {},
   "outputs": [],
   "source": [
    "roi_names = list(data[thick])\n",
    "v = to_vertex(original_scores, roi_names)\n",
    "plot(v, title='Raw v-stats', threshold=.1)"
   ]
  },
  {
   "cell_type": "code",
   "execution_count": null,
   "id": "conservative-fiber",
   "metadata": {},
   "outputs": [],
   "source": [
    "neg_log_pvals = -np.log10(pvals)\n",
    "v = to_vertex(neg_log_pvals , roi_names)\n",
    "plot(v, title='Neg log10 pvals', threshold=.001)"
   ]
  },
  {
   "cell_type": "code",
   "execution_count": null,
   "id": "built-registrar",
   "metadata": {},
   "outputs": [],
   "source": [
    "thresh_scores = original_scores.copy()\n",
    "thresh_scores[pvals > .05] = 0\n",
    "\n",
    "v = to_vertex(thresh_scores, roi_names)\n",
    "plot(v, title='Thresholded V stats', threshold=.1)"
   ]
  },
  {
   "cell_type": "markdown",
   "id": "innocent-remains",
   "metadata": {},
   "source": [
    "### Part 2, permutations for ML\n",
    "\n",
    "What about for ML / Multi-variate? In this example we will use the BPt library"
   ]
  },
  {
   "cell_type": "code",
   "execution_count": null,
   "id": "lyric-violence",
   "metadata": {},
   "outputs": [],
   "source": [
    "import BPt as bp"
   ]
  },
  {
   "cell_type": "code",
   "execution_count": null,
   "id": "pregnant-calculation",
   "metadata": {},
   "outputs": [],
   "source": [
    "data = bp.Dataset(data)\n",
    "data = data.set_role('neurocog', 'target')\n",
    "data = data.set_role(['sex_at_birth', 'family_size', 'neg_rel_family_id', 'ones', 'rel_family_id'], 'non input')\n",
    "\n",
    "# Use just 500 subjects for the sake of speed\n",
    "subjs = data.index[:500]"
   ]
  },
  {
   "cell_type": "code",
   "execution_count": null,
   "id": "consistent-interpretation",
   "metadata": {},
   "outputs": [],
   "source": [
    "results = bp.evaluate('ridge_pipe', data, subjects=subjs)"
   ]
  },
  {
   "cell_type": "code",
   "execution_count": null,
   "id": "composite-turner",
   "metadata": {},
   "outputs": [],
   "source": [
    "results.run_permutation_test(n_perm=10,\n",
    "                             blocks=permutation_structure.loc[subjs],\n",
    "                             within_grp=True,\n",
    "                             plot=True)"
   ]
  }
 ],
 "metadata": {
  "kernelspec": {
   "display_name": "bpt",
   "language": "python",
   "name": "myenv"
  },
  "language_info": {
   "codemirror_mode": {
    "name": "ipython",
    "version": 3
   },
   "file_extension": ".py",
   "mimetype": "text/x-python",
   "name": "python",
   "nbconvert_exporter": "python",
   "pygments_lexer": "ipython3",
   "version": "3.9.1"
  }
 },
 "nbformat": 4,
 "nbformat_minor": 5
}
