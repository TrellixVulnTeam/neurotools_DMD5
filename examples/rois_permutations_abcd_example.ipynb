{
 "cells": [
  {
   "cell_type": "code",
   "execution_count": 1,
   "id": "underlying-dressing",
   "metadata": {},
   "outputs": [
    {
     "name": "stderr",
     "output_type": "stream",
     "text": [
      "/home/sage/anaconda3/envs/bpt/lib/python3.9/site-packages/statsmodels/tsa/base/tsa_model.py:7: FutureWarning: pandas.Int64Index is deprecated and will be removed from pandas in a future version. Use pandas.Index with the appropriate dtype instead.\n",
      "  from pandas import (to_datetime, Int64Index, DatetimeIndex, Period,\n",
      "/home/sage/anaconda3/envs/bpt/lib/python3.9/site-packages/statsmodels/tsa/base/tsa_model.py:7: FutureWarning: pandas.Float64Index is deprecated and will be removed from pandas in a future version. Use pandas.Index with the appropriate dtype instead.\n",
      "  from pandas import (to_datetime, Int64Index, DatetimeIndex, Period,\n"
     ]
    }
   ],
   "source": [
    "import pandas as pd\n",
    "import numpy as np\n",
    "\n",
    "from neurotools.stats.permutations import permuted_v\n",
    "from neurotools.loading.abcd import load_from_csv, load_family_block_structure"
   ]
  },
  {
   "cell_type": "markdown",
   "id": "pregnant-walter",
   "metadata": {},
   "source": [
    "- Load data\n",
    "\n",
    "For this example problem, we will just use a set of thickness ROI's, just family id as the block structure, and a single confounding variable of sex, and let's say neurocog1 as our target variable."
   ]
  },
  {
   "cell_type": "code",
   "execution_count": 2,
   "id": "lucky-swaziland",
   "metadata": {},
   "outputs": [],
   "source": [
    "# Get possible columns\n",
    "csv_loc = '/home/sage/benchmark_methods/data/nda3.0.csv'\n",
    "all_cols = list(pd.read_csv(csv_loc, nrows=0))\n",
    "\n",
    "# Load thickness ROI data - ignore hemi and full mean for plotting\n",
    "thick = [col for col in all_cols if 'smri_thick_cort.destrieux' in col and '_mean' not in col]\n",
    "\n",
    "# Rest of needed columns\n",
    "rest = ['C(sex_at_birth)', 'neurocog_pc1.bl', 'C(rel_family_id)']\n",
    "\n",
    "# Load in all together\n",
    "data = load_from_csv(cols=thick+rest, csv_loc=csv_loc, drop_nan=True)"
   ]
  },
  {
   "cell_type": "markdown",
   "id": "historic-impression",
   "metadata": {},
   "source": [
    "Note the parameter within_grp. If set to True, then means swaps will only be performed within group, so in terms of family, that means the only swaps that would take place are within families, swapping siblings data with each other. If set to False, which we do in this example, it instead means that swaps occur between groups, so every singleton family is freely swapped with other singleton families, but any family of size 2, can only be swapped with another family of size 2.\n",
    "\n",
    "See: https://sahahn.github.io/neurotools/stats.html#permutations-permuted-v\n",
    "For more information on this method."
   ]
  },
  {
   "cell_type": "code",
   "execution_count": 3,
   "id": "structural-quest",
   "metadata": {},
   "outputs": [
    {
     "name": "stderr",
     "output_type": "stream",
     "text": [
      "[Parallel(n_jobs=4)]: Using backend LokyBackend with 4 concurrent workers.\n",
      "[Parallel(n_jobs=4)]: Done   2 out of   4 | elapsed: 22.0min remaining: 22.0min\n",
      "[Parallel(n_jobs=4)]: Done   4 out of   4 | elapsed: 22.0min finished\n"
     ]
    }
   ],
   "source": [
    "pvals, original_scores, h0_vmax = permuted_v(tested_vars=data['neurocog_pc1.bl'],\n",
    "                                             target_vars=data[thick],\n",
    "                                             confounding_vars=data['sex_at_birth'],\n",
    "                                             permutation_structure=data['rel_family_id'],\n",
    "                                             within_grp=False,\n",
    "                                             n_perm=100,\n",
    "                                             verbose=1,\n",
    "                                             n_jobs=4,\n",
    "                                            )"
   ]
  },
  {
   "cell_type": "code",
   "execution_count": 4,
   "id": "overall-chick",
   "metadata": {},
   "outputs": [
    {
     "data": {
      "text/plain": [
       "(148,)"
      ]
     },
     "execution_count": 4,
     "metadata": {},
     "output_type": "execute_result"
    }
   ],
   "source": [
    "original_scores.shape"
   ]
  },
  {
   "cell_type": "code",
   "execution_count": 5,
   "id": "amino-pocket",
   "metadata": {},
   "outputs": [
    {
     "data": {
      "text/plain": [
       "['smri_thick_cort.destrieux_g.and.s.cingul.ant.lh',\n",
       " 'smri_thick_cort.destrieux_g.and.s.cingul.ant.rh',\n",
       " 'smri_thick_cort.destrieux_g.and.s.cingul.mid.ant.lh',\n",
       " 'smri_thick_cort.destrieux_g.and.s.cingul.mid.ant.rh',\n",
       " 'smri_thick_cort.destrieux_g.and.s.cingul.mid.post.lh',\n",
       " 'smri_thick_cort.destrieux_g.and.s.cingul.mid.post.rh',\n",
       " 'smri_thick_cort.destrieux_g.and.s.frontomargin.lh',\n",
       " 'smri_thick_cort.destrieux_g.and.s.frontomargin.rh',\n",
       " 'smri_thick_cort.destrieux_g.and.s.occipital.inf.lh',\n",
       " 'smri_thick_cort.destrieux_g.and.s.occipital.inf.rh',\n",
       " 'smri_thick_cort.destrieux_g.and.s.paracentral.lh',\n",
       " 'smri_thick_cort.destrieux_g.and.s.paracentral.rh',\n",
       " 'smri_thick_cort.destrieux_g.and.s.subcentral.lh',\n",
       " 'smri_thick_cort.destrieux_g.and.s.subcentral.rh',\n",
       " 'smri_thick_cort.destrieux_g.and.s.transv.frontopol.lh',\n",
       " 'smri_thick_cort.destrieux_g.and.s.transv.frontopol.rh',\n",
       " 'smri_thick_cort.destrieux_g.cingul.post.dorsal.lh',\n",
       " 'smri_thick_cort.destrieux_g.cingul.post.dorsal.rh',\n",
       " 'smri_thick_cort.destrieux_g.cingul.post.ventral.lh',\n",
       " 'smri_thick_cort.destrieux_g.cingul.post.ventral.rh',\n",
       " 'smri_thick_cort.destrieux_g.cuneus.lh',\n",
       " 'smri_thick_cort.destrieux_g.cuneus.rh',\n",
       " 'smri_thick_cort.destrieux_g.front.inf.opercular.lh',\n",
       " 'smri_thick_cort.destrieux_g.front.inf.opercular.rh',\n",
       " 'smri_thick_cort.destrieux_g.front.inf.orbital.lh',\n",
       " 'smri_thick_cort.destrieux_g.front.inf.orbital.rh',\n",
       " 'smri_thick_cort.destrieux_g.front.inf.triangul.lh',\n",
       " 'smri_thick_cort.destrieux_g.front.inf.triangul.rh',\n",
       " 'smri_thick_cort.destrieux_g.front.middle.lh',\n",
       " 'smri_thick_cort.destrieux_g.front.middle.rh',\n",
       " 'smri_thick_cort.destrieux_g.front.sup.lh',\n",
       " 'smri_thick_cort.destrieux_g.front.sup.rh',\n",
       " 'smri_thick_cort.destrieux_g.ins.lg.and.s.cent.ins.lh',\n",
       " 'smri_thick_cort.destrieux_g.ins.lg.and.s.cent.ins.rh',\n",
       " 'smri_thick_cort.destrieux_g.insular.short.lh',\n",
       " 'smri_thick_cort.destrieux_g.insular.short.rh',\n",
       " 'smri_thick_cort.destrieux_g.occipital.middle.lh',\n",
       " 'smri_thick_cort.destrieux_g.occipital.middle.rh',\n",
       " 'smri_thick_cort.destrieux_g.occipital.sup.lh',\n",
       " 'smri_thick_cort.destrieux_g.occipital.sup.rh',\n",
       " 'smri_thick_cort.destrieux_g.oc.temp.lat.fusifor.lh',\n",
       " 'smri_thick_cort.destrieux_g.oc.temp.lat.fusifor.rh',\n",
       " 'smri_thick_cort.destrieux_g.oc.temp.med.lingual.lh',\n",
       " 'smri_thick_cort.destrieux_g.oc.temp.med.lingual.rh',\n",
       " 'smri_thick_cort.destrieux_g.oc.temp.med.parahip.lh',\n",
       " 'smri_thick_cort.destrieux_g.oc.temp.med.parahip.rh',\n",
       " 'smri_thick_cort.destrieux_g.orbital.lh',\n",
       " 'smri_thick_cort.destrieux_g.orbital.rh',\n",
       " 'smri_thick_cort.destrieux_g.parietal.sup.lh',\n",
       " 'smri_thick_cort.destrieux_g.parietal.sup.rh',\n",
       " 'smri_thick_cort.destrieux_g.pariet.inf.angular.lh',\n",
       " 'smri_thick_cort.destrieux_g.pariet.inf.angular.rh',\n",
       " 'smri_thick_cort.destrieux_g.pariet.inf.supramar.lh',\n",
       " 'smri_thick_cort.destrieux_g.pariet.inf.supramar.rh',\n",
       " 'smri_thick_cort.destrieux_g.postcentral.lh',\n",
       " 'smri_thick_cort.destrieux_g.postcentral.rh',\n",
       " 'smri_thick_cort.destrieux_g.precentral.lh',\n",
       " 'smri_thick_cort.destrieux_g.precentral.rh',\n",
       " 'smri_thick_cort.destrieux_g.precuneus.lh',\n",
       " 'smri_thick_cort.destrieux_g.precuneus.rh',\n",
       " 'smri_thick_cort.destrieux_g.rectus.lh',\n",
       " 'smri_thick_cort.destrieux_g.rectus.rh',\n",
       " 'smri_thick_cort.destrieux_g.subcallosal.lh',\n",
       " 'smri_thick_cort.destrieux_g.subcallosal.rh',\n",
       " 'smri_thick_cort.destrieux_g.temporal.inf.lh',\n",
       " 'smri_thick_cort.destrieux_g.temporal.inf.rh',\n",
       " 'smri_thick_cort.destrieux_g.temporal.middle.lh',\n",
       " 'smri_thick_cort.destrieux_g.temporal.middle.rh',\n",
       " 'smri_thick_cort.destrieux_g.temp.sup.g.t.transv.lh',\n",
       " 'smri_thick_cort.destrieux_g.temp.sup.g.t.transv.rh',\n",
       " 'smri_thick_cort.destrieux_g.temp.sup.lateral.lh',\n",
       " 'smri_thick_cort.destrieux_g.temp.sup.lateral.rh',\n",
       " 'smri_thick_cort.destrieux_g.temp.sup.plan.polar.lh',\n",
       " 'smri_thick_cort.destrieux_g.temp.sup.plan.polar.rh',\n",
       " 'smri_thick_cort.destrieux_g.temp.sup.plan.tempo.lh',\n",
       " 'smri_thick_cort.destrieux_g.temp.sup.plan.tempo.rh',\n",
       " 'smri_thick_cort.destrieux_lat.fis.ant.horizont.lh',\n",
       " 'smri_thick_cort.destrieux_lat.fis.ant.horizont.rh',\n",
       " 'smri_thick_cort.destrieux_lat.fis.ant.vertical.lh',\n",
       " 'smri_thick_cort.destrieux_lat.fis.ant.vertical.rh',\n",
       " 'smri_thick_cort.destrieux_lat.fis.post.lh',\n",
       " 'smri_thick_cort.destrieux_lat.fis.post.rh',\n",
       " 'smri_thick_cort.destrieux_pole.occipital.lh',\n",
       " 'smri_thick_cort.destrieux_pole.occipital.rh',\n",
       " 'smri_thick_cort.destrieux_pole.temporal.lh',\n",
       " 'smri_thick_cort.destrieux_pole.temporal.rh',\n",
       " 'smri_thick_cort.destrieux_s.calcarine.lh',\n",
       " 'smri_thick_cort.destrieux_s.calcarine.rh',\n",
       " 'smri_thick_cort.destrieux_s.central.lh',\n",
       " 'smri_thick_cort.destrieux_s.central.rh',\n",
       " 'smri_thick_cort.destrieux_s.cingul.marginalis.lh',\n",
       " 'smri_thick_cort.destrieux_s.cingul.marginalis.rh',\n",
       " 'smri_thick_cort.destrieux_s.circular.insula.ant.lh',\n",
       " 'smri_thick_cort.destrieux_s.circular.insula.ant.rh',\n",
       " 'smri_thick_cort.destrieux_s.circular.insula.inf.lh',\n",
       " 'smri_thick_cort.destrieux_s.circular.insula.inf.rh',\n",
       " 'smri_thick_cort.destrieux_s.circular.insula.sup.lh',\n",
       " 'smri_thick_cort.destrieux_s.circular.insula.sup.rh',\n",
       " 'smri_thick_cort.destrieux_s.collat.transv.ant.lh',\n",
       " 'smri_thick_cort.destrieux_s.collat.transv.ant.rh',\n",
       " 'smri_thick_cort.destrieux_s.collat.transv.post.lh',\n",
       " 'smri_thick_cort.destrieux_s.collat.transv.post.rh',\n",
       " 'smri_thick_cort.destrieux_s.front.inf.lh',\n",
       " 'smri_thick_cort.destrieux_s.front.inf.rh',\n",
       " 'smri_thick_cort.destrieux_s.front.middle.lh',\n",
       " 'smri_thick_cort.destrieux_s.front.middle.rh',\n",
       " 'smri_thick_cort.destrieux_s.front.sup.lh',\n",
       " 'smri_thick_cort.destrieux_s.front.sup.rh',\n",
       " 'smri_thick_cort.destrieux_s.interm.prim.jensen.lh',\n",
       " 'smri_thick_cort.destrieux_s.interm.prim.jensen.rh',\n",
       " 'smri_thick_cort.destrieux_s.intrapariet.and.p.trans.lh',\n",
       " 'smri_thick_cort.destrieux_s.intrapariet.and.p.trans.rh',\n",
       " 'smri_thick_cort.destrieux_s.occipital.ant.lh',\n",
       " 'smri_thick_cort.destrieux_s.occipital.ant.rh',\n",
       " 'smri_thick_cort.destrieux_s.oc.middle.and.lunatus.lh',\n",
       " 'smri_thick_cort.destrieux_s.oc.middle.and.lunatus.rh',\n",
       " 'smri_thick_cort.destrieux_s.oc.sup.and.transversal.lh',\n",
       " 'smri_thick_cort.destrieux_s.oc.sup.and.transversal.rh',\n",
       " 'smri_thick_cort.destrieux_s.oc.temp.lat.lh',\n",
       " 'smri_thick_cort.destrieux_s.oc.temp.lat.rh',\n",
       " 'smri_thick_cort.destrieux_s.oc.temp.med.and.lingual.lh',\n",
       " 'smri_thick_cort.destrieux_s.oc.temp.med.and.lingual.rh',\n",
       " 'smri_thick_cort.destrieux_s.orbital.h.shaped.lh',\n",
       " 'smri_thick_cort.destrieux_s.orbital.h.shaped.rh',\n",
       " 'smri_thick_cort.destrieux_s.orbital.lateral.lh',\n",
       " 'smri_thick_cort.destrieux_s.orbital.lateral.rh',\n",
       " 'smri_thick_cort.destrieux_s.orbital.med.olfact.lh',\n",
       " 'smri_thick_cort.destrieux_s.orbital.med.olfact.rh',\n",
       " 'smri_thick_cort.destrieux_s.parieto.occipital.lh',\n",
       " 'smri_thick_cort.destrieux_s.parieto.occipital.rh',\n",
       " 'smri_thick_cort.destrieux_s.pericallosal.lh',\n",
       " 'smri_thick_cort.destrieux_s.pericallosal.rh',\n",
       " 'smri_thick_cort.destrieux_s.postcentral.lh',\n",
       " 'smri_thick_cort.destrieux_s.postcentral.rh',\n",
       " 'smri_thick_cort.destrieux_s.precentral.inf.part.lh',\n",
       " 'smri_thick_cort.destrieux_s.precentral.inf.part.rh',\n",
       " 'smri_thick_cort.destrieux_s.precentral.sup.part.lh',\n",
       " 'smri_thick_cort.destrieux_s.precentral.sup.part.rh',\n",
       " 'smri_thick_cort.destrieux_s.suborbital.lh',\n",
       " 'smri_thick_cort.destrieux_s.suborbital.rh',\n",
       " 'smri_thick_cort.destrieux_s.subparietal.lh',\n",
       " 'smri_thick_cort.destrieux_s.subparietal.rh',\n",
       " 'smri_thick_cort.destrieux_s.temporal.inf.lh',\n",
       " 'smri_thick_cort.destrieux_s.temporal.inf.rh',\n",
       " 'smri_thick_cort.destrieux_s.temporal.sup.lh',\n",
       " 'smri_thick_cort.destrieux_s.temporal.sup.rh',\n",
       " 'smri_thick_cort.destrieux_s.temporal.transverse.lh',\n",
       " 'smri_thick_cort.destrieux_s.temporal.transverse.rh']"
      ]
     },
     "execution_count": 5,
     "metadata": {},
     "output_type": "execute_result"
    }
   ],
   "source": [
    "list(data[thick])"
   ]
  },
  {
   "cell_type": "code",
   "execution_count": null,
   "id": "studied-toronto",
   "metadata": {},
   "outputs": [],
   "source": []
  }
 ],
 "metadata": {
  "kernelspec": {
   "display_name": "Python 3.9.1 64-bit ('bpt': conda)",
   "language": "python",
   "name": "python391jvsc74a57bd0816e2859f723fb77ad3214da0fbda681e8d4db93bd8b118618b521c0b1f5f48f"
  },
  "language_info": {
   "codemirror_mode": {
    "name": "ipython",
    "version": 3
   },
   "file_extension": ".py",
   "mimetype": "text/x-python",
   "name": "python",
   "nbconvert_exporter": "python",
   "pygments_lexer": "ipython3",
   "version": "3.9.1"
  }
 },
 "nbformat": 4,
 "nbformat_minor": 5
}
