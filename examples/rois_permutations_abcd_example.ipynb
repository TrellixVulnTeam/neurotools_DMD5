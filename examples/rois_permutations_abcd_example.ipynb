{
 "cells": [
  {
   "cell_type": "code",
   "execution_count": 1,
   "id": "intensive-trick",
   "metadata": {},
   "outputs": [],
   "source": [
    "import pandas as pd\n",
    "import numpy as np\n",
    "\n",
    "from neurotools.stats.permutations import permuted_v\n",
    "from neurotools.loading.abcd import load_from_csv, load_family_block_structure"
   ]
  },
  {
   "cell_type": "markdown",
   "id": "freelance-aspect",
   "metadata": {},
   "source": [
    "- Load data\n",
    "\n",
    "For this example problem, we will just use a set of thickness ROI's, just family id as the block structure, and a single confounding variable of sex, and let's say neurocog1 as our target variable."
   ]
  },
  {
   "cell_type": "code",
   "execution_count": 2,
   "id": "outdoor-crowd",
   "metadata": {},
   "outputs": [],
   "source": [
    "# Get possible columns\n",
    "csv_loc = '/home/sage/benchmark_methods/data/nda3.0.csv'\n",
    "all_cols = list(pd.read_csv(csv_loc, nrows=0))\n",
    "\n",
    "# Load thickness ROI data - ignore hemi and full mean for plotting\n",
    "thick = [col for col in all_cols if 'smri_thick_cort.destrieux' in col and '_mean' not in col]\n",
    "\n",
    "# Rest of needed columns\n",
    "rest = ['C(sex_at_birth)', 'neurocog_pc1.bl', 'C(rel_family_id)']\n",
    "\n",
    "# Load in all together\n",
    "data = load_from_csv(cols=thick+rest, csv_loc=csv_loc, drop_nan=True)"
   ]
  },
  {
   "cell_type": "markdown",
   "id": "steady-agriculture",
   "metadata": {},
   "source": [
    "Note the parameter within_grp. If set to True, then means swaps will only be performed within group, so in terms of family, that means the only swaps that would take place are within families, swapping siblings data with each other. If set to False, which we do in this example, it instead means that swaps occur between groups, so every singleton family is freely swapped with other singleton families, but any family of size 2, can only be swapped with another family of size 2.\n",
    "\n",
    "See: https://sahahn.github.io/neurotools/stats.html#permutations-permuted-v\n",
    "For more information on this method."
   ]
  },
  {
   "cell_type": "code",
   "execution_count": null,
   "id": "oriented-detroit",
   "metadata": {},
   "outputs": [
    {
     "name": "stdout",
     "output_type": "stream",
     "text": [
      "[ 0  1  2  3  4  5  6  7  8  9 10]\n"
     ]
    }
   ],
   "source": [
    "pvals, original_scores, h0_vmax = permuted_v(tested_vars=data['neurocog_pc1.bl'],\n",
    "                                             target_vars=data[thick],\n",
    "                                             confounding_vars=data['sex_at_birth'],\n",
    "                                             permutation_structure=data[['rel_family_id']],\n",
    "                                             within_grp=False,\n",
    "                                             n_perm=100,\n",
    "                                             verbose=1,\n",
    "                                             n_jobs=4,\n",
    "                                            )"
   ]
  },
  {
   "cell_type": "code",
   "execution_count": 7,
   "id": "fatal-journalist",
   "metadata": {},
   "outputs": [
    {
     "data": {
      "text/plain": [
       "array([1, 2, 3, 5])"
      ]
     },
     "execution_count": 7,
     "metadata": {},
     "output_type": "execute_result"
    }
   ],
   "source": [
    "np.unique(np.unique(data['rel_family_id'], return_counts=True)[1])"
   ]
  },
  {
   "cell_type": "code",
   "execution_count": null,
   "id": "horizontal-benjamin",
   "metadata": {},
   "outputs": [],
   "source": [
    "from neurotools.plotting import SurfRef, plot\n",
    "\n",
    "def to_vertex(vals, names, space='fsaverage5'):\n",
    "    '''Helper function to convert destr. ROIs to vertex space'''\n",
    "    \n",
    "    plot_df = pd.DataFrame(vals, columns=['vals'])\n",
    "    plot_df['names'] = names\n",
    "\n",
    "    surf_ref = SurfRef(space=space, parc='destr')\n",
    "    plot_data = surf_ref.get_hemis_plot_vals(plot_df, lh_key='.lh', rh_key='.rh')\n",
    "    \n",
    "    return plot_data"
   ]
  },
  {
   "cell_type": "code",
   "execution_count": null,
   "id": "saving-sheet",
   "metadata": {},
   "outputs": [],
   "source": [
    "roi_names = list(data[thick])\n",
    "v = to_vertex(original_scores, roi_names)\n",
    "plot(v, title='Raw v-stats', threshold=.1)"
   ]
  },
  {
   "cell_type": "code",
   "execution_count": null,
   "id": "twelve-trustee",
   "metadata": {},
   "outputs": [],
   "source": [
    "original_scores"
   ]
  },
  {
   "cell_type": "code",
   "execution_count": null,
   "id": "decent-company",
   "metadata": {},
   "outputs": [],
   "source": [
    "h0_vmax"
   ]
  },
  {
   "cell_type": "code",
   "execution_count": null,
   "id": "designing-favorite",
   "metadata": {},
   "outputs": [],
   "source": []
  }
 ],
 "metadata": {
  "kernelspec": {
   "display_name": "Python 3.9.1 64-bit ('bpt': conda)",
   "language": "python",
   "name": "python391jvsc74a57bd0816e2859f723fb77ad3214da0fbda681e8d4db93bd8b118618b521c0b1f5f48f"
  },
  "language_info": {
   "codemirror_mode": {
    "name": "ipython",
    "version": 3
   },
   "file_extension": ".py",
   "mimetype": "text/x-python",
   "name": "python",
   "nbconvert_exporter": "python",
   "pygments_lexer": "ipython3",
   "version": "3.9.1"
  }
 },
 "nbformat": 4,
 "nbformat_minor": 5
}
