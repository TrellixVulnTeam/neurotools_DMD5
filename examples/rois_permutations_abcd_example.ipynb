{
 "cells": [
  {
   "cell_type": "code",
   "execution_count": 1,
   "id": "vietnamese-invitation",
   "metadata": {},
   "outputs": [
    {
     "name": "stderr",
     "output_type": "stream",
     "text": [
      "/home/sage/anaconda3/envs/bpt/lib/python3.9/site-packages/statsmodels/tsa/base/tsa_model.py:7: FutureWarning: pandas.Int64Index is deprecated and will be removed from pandas in a future version. Use pandas.Index with the appropriate dtype instead.\n",
      "  from pandas import (to_datetime, Int64Index, DatetimeIndex, Period,\n",
      "/home/sage/anaconda3/envs/bpt/lib/python3.9/site-packages/statsmodels/tsa/base/tsa_model.py:7: FutureWarning: pandas.Float64Index is deprecated and will be removed from pandas in a future version. Use pandas.Index with the appropriate dtype instead.\n",
      "  from pandas import (to_datetime, Int64Index, DatetimeIndex, Period,\n"
     ]
    }
   ],
   "source": [
    "import pandas as pd\n",
    "import numpy as np\n",
    "\n",
    "from neurotools.stats.permutations import permuted_v\n",
    "from neurotools.loading.abcd import load_from_csv, load_family_block_structure"
   ]
  },
  {
   "cell_type": "markdown",
   "id": "disturbed-partner",
   "metadata": {},
   "source": [
    "- Load data\n",
    "\n",
    "For this example problem, we will just use a set of thickness ROI's, just family id as the block structure, and a single confounding variable of sex, and let's say neurocog1 as our target variable."
   ]
  },
  {
   "cell_type": "code",
   "execution_count": 2,
   "id": "electoral-generation",
   "metadata": {},
   "outputs": [],
   "source": [
    "# Get possible columns\n",
    "csv_loc = '/home/sage/benchmark_methods/data/nda3.0.csv'\n",
    "all_cols = list(pd.read_csv(csv_loc, nrows=0))\n",
    "\n",
    "# Load thickness ROI data - ignore hemi and full mean for plotting\n",
    "thick = [col for col in all_cols if 'smri_thick_cort.destrieux' in col and '_mean' not in col]\n",
    "\n",
    "# Rest of needed columns\n",
    "rest = ['C(sex_at_birth)', 'neurocog_pc1.bl', 'C(rel_family_id)']\n",
    "\n",
    "# Load in all together\n",
    "data = load_from_csv(cols=thick+rest, csv_loc=csv_loc, drop_nan=True)"
   ]
  },
  {
   "cell_type": "markdown",
   "id": "expressed-interference",
   "metadata": {},
   "source": [
    "Note the parameter within_grp. If set to True, then means swaps will only be performed within group, so in terms of family, that means the only swaps that would take place are within families, swapping siblings data with each other. If set to False, which we do in this example, it instead means that swaps occur between groups, so every singleton family is freely swapped with other singleton families, but any family of size 2, can only be swapped with another family of size 2.\n",
    "\n",
    "See: https://sahahn.github.io/neurotools/stats.html#permutations-permuted-v\n",
    "For more information on this method."
   ]
  },
  {
   "cell_type": "code",
   "execution_count": null,
   "id": "exposed-repeat",
   "metadata": {},
   "outputs": [
    {
     "name": "stderr",
     "output_type": "stream",
     "text": [
      "[Parallel(n_jobs=4)]: Using backend LokyBackend with 4 concurrent workers.\n"
     ]
    }
   ],
   "source": [
    "pvals, original_scores, h0_vmax = permuted_v(tested_vars=data['neurocog_pc1.bl'],\n",
    "                                             target_vars=data[thick],\n",
    "                                             confounding_vars=data['sex_at_birth'],\n",
    "                                             permutation_structure=data['rel_family_id'],\n",
    "                                             within_grp=False,\n",
    "                                             n_perm=100,\n",
    "                                             verbose=1,\n",
    "                                             n_jobs=4,\n",
    "                                            )"
   ]
  },
  {
   "cell_type": "code",
   "execution_count": null,
   "id": "adverse-blackberry",
   "metadata": {},
   "outputs": [],
   "source": [
    "original_scores.shape"
   ]
  },
  {
   "cell_type": "code",
   "execution_count": null,
   "id": "smart-hammer",
   "metadata": {},
   "outputs": [],
   "source": [
    "list(data[thick])"
   ]
  },
  {
   "cell_type": "code",
   "execution_count": null,
   "id": "pregnant-conditions",
   "metadata": {},
   "outputs": [],
   "source": []
  }
 ],
 "metadata": {
  "kernelspec": {
   "display_name": "Python 3.9.1 64-bit ('bpt': conda)",
   "language": "python",
   "name": "python391jvsc74a57bd0816e2859f723fb77ad3214da0fbda681e8d4db93bd8b118618b521c0b1f5f48f"
  },
  "language_info": {
   "codemirror_mode": {
    "name": "ipython",
    "version": 3
   },
   "file_extension": ".py",
   "mimetype": "text/x-python",
   "name": "python",
   "nbconvert_exporter": "python",
   "pygments_lexer": "ipython3",
   "version": "3.9.1"
  }
 },
 "nbformat": 4,
 "nbformat_minor": 5
}
