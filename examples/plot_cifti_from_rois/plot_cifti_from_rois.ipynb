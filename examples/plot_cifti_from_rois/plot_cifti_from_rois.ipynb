{
 "cells": [
  {
   "cell_type": "code",
   "execution_count": 1,
   "id": "detected-percentage",
   "metadata": {},
   "outputs": [
    {
     "name": "stderr",
     "output_type": "stream",
     "text": [
      "/home/sage/anaconda3/envs/bpt/lib/python3.9/site-packages/nilearn/datasets/__init__.py:93: FutureWarning: Fetchers from the nilearn.datasets module will be updated in version 0.9 to return python strings instead of bytes and Pandas dataframes instead of Numpy arrays.\n",
      "  warn(\"Fetchers from the nilearn.datasets module will be \"\n"
     ]
    }
   ],
   "source": [
    "import nibabel as nib\n",
    "import pandas as pd\n",
    "import numpy as np\n",
    "from neurotools.plotting import plot\n",
    "from neurotools.loading import load\n",
    "from neurotools.transform import SurfLabels\n",
    "import matplotlib.pyplot as plt"
   ]
  },
  {
   "cell_type": "markdown",
   "id": "revised-college",
   "metadata": {},
   "source": [
    "The first step is loading some set of rois for an example subject just as a 1D numpy array, in this case w/ length 379."
   ]
  },
  {
   "cell_type": "code",
   "execution_count": 2,
   "id": "adolescent-rebecca",
   "metadata": {},
   "outputs": [
    {
     "data": {
      "text/plain": [
       "(379,)"
      ]
     },
     "execution_count": 2,
     "metadata": {},
     "output_type": "execute_result"
    }
   ],
   "source": [
    "rois = pd.read_csv('ex_rois.csv', header=None)\n",
    "rois = np.squeeze(np.array(rois))\n",
    "rois.shape"
   ]
  },
  {
   "cell_type": "markdown",
   "id": "established-joseph",
   "metadata": {},
   "source": [
    "Next, we need to load the parcellation label file in a simmilar way, i.e., as just a flat 1D array."
   ]
  },
  {
   "cell_type": "code",
   "execution_count": 3,
   "id": "institutional-typing",
   "metadata": {},
   "outputs": [
    {
     "data": {
      "text/plain": [
       "(96854,)"
      ]
     },
     "execution_count": 3,
     "metadata": {},
     "output_type": "execute_result"
    }
   ],
   "source": [
    "parcel = nib.load('HCP2016FreeSurferSubcortical_dparc.dlabel.nii')\n",
    "parcel_labels = np.array(parcel.get_fdata()).squeeze()\n",
    "parcel_labels.shape"
   ]
  },
  {
   "cell_type": "markdown",
   "id": "technological-facial",
   "metadata": {},
   "source": [
    "Then, we initialize a SurfLabels object based off the parcel labels file - which we can use to inverse transform the ROIs back into the space of the dlabel file"
   ]
  },
  {
   "cell_type": "code",
   "execution_count": 4,
   "id": "matched-interest",
   "metadata": {},
   "outputs": [],
   "source": [
    "sl_transformer = SurfLabels(parcel_labels, background_label=0)\n",
    "data = sl_transformer.inverse_transform(rois)"
   ]
  },
  {
   "cell_type": "code",
   "execution_count": null,
   "id": "furnished-cylinder",
   "metadata": {},
   "outputs": [],
   "source": [
    "from neurotools.plotting import plot\n",
    "plot(data)\n",
    "plt.savefig('example_glass_default.png', dpi=100, bbox_inches='tight')"
   ]
  },
  {
   "cell_type": "code",
   "execution_count": null,
   "id": "ruled-mapping",
   "metadata": {},
   "outputs": [],
   "source": [
    "plot(data, vol_plot_type='stat', title='My Data', bg_on_data=True)\n",
    "plt.savefig('example_stat.png', dpi=100, bbox_inches='tight')"
   ]
  }
 ],
 "metadata": {
  "kernelspec": {
   "display_name": "Python 3.9.1 64-bit ('bpt': conda)",
   "language": "python",
   "name": "python391jvsc74a57bd0816e2859f723fb77ad3214da0fbda681e8d4db93bd8b118618b521c0b1f5f48f"
  },
  "language_info": {
   "codemirror_mode": {
    "name": "ipython",
    "version": 3
   },
   "file_extension": ".py",
   "mimetype": "text/x-python",
   "name": "python",
   "nbconvert_exporter": "python",
   "pygments_lexer": "ipython3",
   "version": "3.9.1"
  }
 },
 "nbformat": 4,
 "nbformat_minor": 5
}
