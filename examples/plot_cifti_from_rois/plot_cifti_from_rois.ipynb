{
 "cells": [
  {
   "cell_type": "code",
   "execution_count": 1,
   "id": "floppy-commodity",
   "metadata": {},
   "outputs": [],
   "source": [
    "import nibabel as nib\n",
    "import pandas as pd\n",
    "import numpy as np\n",
    "from neurotools.loading import load\n",
    "from neurotools.transform import SurfLabels\n",
    "from neurotools.transform.space import process_space"
   ]
  },
  {
   "cell_type": "markdown",
   "id": "presidential-flashing",
   "metadata": {},
   "source": [
    "The first step is loading some set of rois for an example subject just as a 1D numpy array, in this case w/ length 379."
   ]
  },
  {
   "cell_type": "code",
   "execution_count": 2,
   "id": "welcome-civilian",
   "metadata": {},
   "outputs": [
    {
     "data": {
      "text/plain": [
       "(379,)"
      ]
     },
     "execution_count": 2,
     "metadata": {},
     "output_type": "execute_result"
    }
   ],
   "source": [
    "rois = pd.read_csv('ex_rois.csv', header=None)\n",
    "rois = np.squeeze(np.array(rois))\n",
    "rois.shape"
   ]
  },
  {
   "cell_type": "markdown",
   "id": "reasonable-parcel",
   "metadata": {},
   "source": [
    "Next, we need to load the parcellation label file in a simmilar way, i.e., as just a flat 1D array."
   ]
  },
  {
   "cell_type": "code",
   "execution_count": 3,
   "id": "italic-field",
   "metadata": {},
   "outputs": [
    {
     "data": {
      "text/plain": [
       "(96854,)"
      ]
     },
     "execution_count": 3,
     "metadata": {},
     "output_type": "execute_result"
    }
   ],
   "source": [
    "parcel = nib.load('HCP2016FreeSurferSubcortical_dparc.dlabel.nii')\n",
    "parcel_labels = np.array(parcel.get_fdata()).squeeze()\n",
    "parcel_labels.shape"
   ]
  },
  {
   "cell_type": "markdown",
   "id": "precise-lindsay",
   "metadata": {},
   "source": [
    "Then, we initialize a SurfLabels object based off the parcel labels file - which we can use to inverse transform the ROIs back into the space of the dlabel file"
   ]
  },
  {
   "cell_type": "code",
   "execution_count": 4,
   "id": "stretch-angola",
   "metadata": {},
   "outputs": [
    {
     "data": {
      "text/plain": [
       "(96854,)"
      ]
     },
     "execution_count": 4,
     "metadata": {},
     "output_type": "execute_result"
    }
   ],
   "source": [
    "sl_transformer = SurfLabels(parcel_labels, background_label=0)\n",
    "data = sl_transformer.inverse_transform(rois)\n",
    "data.shape"
   ]
  },
  {
   "cell_type": "code",
   "execution_count": 10,
   "id": "working-friend",
   "metadata": {},
   "outputs": [
    {
     "data": {
      "text/plain": [
       "({'lh': array([-6.6   , -6.0332, 15.2386, ..., -3.3183, -3.3183, -3.3183]),\n",
       "  'rh': array([-2.5772, -0.1352,  3.8534, ...,  7.1648,  7.1648,  7.1648]),\n",
       "  'sub': <nibabel.nifti1.Nifti1Image at 0x7fd701bb0ca0>},\n",
       " '32k_fs_LR')"
      ]
     },
     "execution_count": 10,
     "metadata": {},
     "output_type": "execute_result"
    }
   ],
   "source": [
    "proc_data, space = process_space(data)\n",
    "proc_data, space"
   ]
  },
  {
   "cell_type": "code",
   "execution_count": null,
   "id": "chronic-video",
   "metadata": {},
   "outputs": [],
   "source": []
  }
 ],
 "metadata": {
  "kernelspec": {
   "display_name": "Python 3.9.1 64-bit ('bpt': conda)",
   "language": "python",
   "name": "python391jvsc74a57bd0816e2859f723fb77ad3214da0fbda681e8d4db93bd8b118618b521c0b1f5f48f"
  },
  "language_info": {
   "codemirror_mode": {
    "name": "ipython",
    "version": 3
   },
   "file_extension": ".py",
   "mimetype": "text/x-python",
   "name": "python",
   "nbconvert_exporter": "python",
   "pygments_lexer": "ipython3",
   "version": "3.9.1"
  }
 },
 "nbformat": 4,
 "nbformat_minor": 5
}
