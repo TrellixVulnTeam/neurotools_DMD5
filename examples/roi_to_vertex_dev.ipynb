{
 "cells": [
  {
   "cell_type": "code",
   "execution_count": null,
   "id": "organic-century",
   "metadata": {},
   "outputs": [],
   "source": []
  },
  {
   "cell_type": "code",
   "execution_count": 1,
   "id": "married-swedish",
   "metadata": {},
   "outputs": [],
   "source": [
    "def to_vertex(vals, names, space='fsaverage5'):\n",
    "    '''Helper function to convert destr. ROIs to vertex space'''\n",
    "    \n",
    "    plot_df = pd.DataFrame(vals, columns=['vals'])\n",
    "    plot_df['names'] = names\n",
    "\n",
    "    surf_ref = SurfRef(space=space, parc='destr')\n",
    "    plot_data = surf_ref.get_hemis_plot_vals(plot_df, lh_key='lh.', rh_key='rh.')\n",
    "    \n",
    "    return plot_data"
   ]
  },
  {
   "cell_type": "code",
   "execution_count": null,
   "id": "textile-moscow",
   "metadata": {},
   "outputs": [],
   "source": []
  }
 ],
 "metadata": {
  "kernelspec": {
   "display_name": "Python 3.9.1 64-bit ('bpt': conda)",
   "language": "python",
   "name": "python391jvsc74a57bd0816e2859f723fb77ad3214da0fbda681e8d4db93bd8b118618b521c0b1f5f48f"
  },
  "language_info": {
   "codemirror_mode": {
    "name": "ipython",
    "version": 3
   },
   "file_extension": ".py",
   "mimetype": "text/x-python",
   "name": "python",
   "nbconvert_exporter": "python",
   "pygments_lexer": "ipython3",
   "version": "3.9.1"
  }
 },
 "nbformat": 4,
 "nbformat_minor": 5
}
